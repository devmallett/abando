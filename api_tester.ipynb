{
 "cells": [
  {
   "cell_type": "code",
   "execution_count": 1,
   "id": "cb53b045",
   "metadata": {},
   "outputs": [
    {
     "name": "stdout",
     "output_type": "stream",
     "text": [
      "{'Meta Data': {'1. Information': 'Intraday (5min) open, high, low, close prices and volume', '2. Symbol': 'IBM', '3. Last Refreshed': '2021-10-29 18:45:00', '4. Interval': '5min', '5. Output Size': 'Compact', '6. Time Zone': 'US/Eastern'}, 'Time Series (5min)': {'2021-10-29 18:45:00': {'1. open': '125.2000', '2. high': '125.2000', '3. low': '125.2000', '4. close': '125.2000', '5. volume': '100'}, '2021-10-29 17:35:00': {'1. open': '125.1400', '2. high': '125.1400', '3. low': '125.1000', '4. close': '125.1000', '5. volume': '1014'}, '2021-10-29 17:30:00': {'1. open': '125.2700', '2. high': '125.2800', '3. low': '125.2400', '4. close': '125.2800', '5. volume': '5105'}, '2021-10-29 17:15:00': {'1. open': '125.2200', '2. high': '125.2200', '3. low': '125.2200', '4. close': '125.2200', '5. volume': '450'}, '2021-10-29 17:10:00': {'1. open': '125.2200', '2. high': '125.2200', '3. low': '125.2200', '4. close': '125.2200', '5. volume': '100'}, '2021-10-29 17:05:00': {'1. open': '125.1100', '2. high': '125.1100', '3. low': '125.1100', '4. close': '125.1100', '5. volume': '102'}, '2021-10-29 16:55:00': {'1. open': '125.1000', '2. high': '125.1000', '3. low': '125.1000', '4. close': '125.1000', '5. volume': '298'}, '2021-10-29 16:45:00': {'1. open': '125.1130', '2. high': '125.1130', '3. low': '125.1000', '4. close': '125.1000', '5. volume': '384'}, '2021-10-29 16:35:00': {'1. open': '125.1200', '2. high': '125.1200', '3. low': '125.1200', '4. close': '125.1200', '5. volume': '900'}, '2021-10-29 16:30:00': {'1. open': '125.1000', '2. high': '125.1000', '3. low': '125.1000', '4. close': '125.1000', '5. volume': '1590'}, '2021-10-29 16:25:00': {'1. open': '125.1000', '2. high': '125.1000', '3. low': '125.1000', '4. close': '125.1000', '5. volume': '61136'}, '2021-10-29 16:20:00': {'1. open': '125.1000', '2. high': '125.1000', '3. low': '125.1000', '4. close': '125.1000', '5. volume': '146043'}, '2021-10-29 16:15:00': {'1. open': '125.1200', '2. high': '125.1200', '3. low': '125.1000', '4. close': '125.1200', '5. volume': '18923'}, '2021-10-29 16:10:00': {'1. open': '125.1000', '2. high': '125.1000', '3. low': '125.1000', '4. close': '125.1000', '5. volume': '332'}, '2021-10-29 16:05:00': {'1. open': '125.1000', '2. high': '125.3700', '3. low': '125.0500', '4. close': '125.1000', '5. volume': '193606'}, '2021-10-29 16:00:00': {'1. open': '125.1950', '2. high': '125.1983', '3. low': '125.0600', '4. close': '125.1200', '5. volume': '333391'}, '2021-10-29 15:55:00': {'1. open': '125.0700', '2. high': '125.2150', '3. low': '125.0400', '4. close': '125.2000', '5. volume': '173091'}, '2021-10-29 15:50:00': {'1. open': '125.0300', '2. high': '125.1050', '3. low': '125.0100', '4. close': '125.0650', '5. volume': '86061'}, '2021-10-29 15:45:00': {'1. open': '125.0000', '2. high': '125.1100', '3. low': '124.9800', '4. close': '125.0200', '5. volume': '85600'}, '2021-10-29 15:40:00': {'1. open': '124.9999', '2. high': '125.0700', '3. low': '124.9100', '4. close': '124.9900', '5. volume': '94137'}, '2021-10-29 15:35:00': {'1. open': '124.9500', '2. high': '124.9980', '3. low': '124.9400', '4. close': '124.9900', '5. volume': '78269'}, '2021-10-29 15:30:00': {'1. open': '125.0050', '2. high': '125.0200', '3. low': '124.9100', '4. close': '124.9700', '5. volume': '67709'}, '2021-10-29 15:25:00': {'1. open': '125.1178', '2. high': '125.1200', '3. low': '124.9850', '4. close': '125.0000', '5. volume': '110141'}, '2021-10-29 15:20:00': {'1. open': '125.1948', '2. high': '125.2100', '3. low': '125.0600', '4. close': '125.1100', '5. volume': '60917'}, '2021-10-29 15:15:00': {'1. open': '125.2200', '2. high': '125.2250', '3. low': '125.1700', '4. close': '125.2000', '5. volume': '41348'}, '2021-10-29 15:10:00': {'1. open': '125.2700', '2. high': '125.2800', '3. low': '125.2200', '4. close': '125.2300', '5. volume': '41001'}, '2021-10-29 15:05:00': {'1. open': '125.3100', '2. high': '125.3500', '3. low': '125.2638', '4. close': '125.2700', '5. volume': '25345'}, '2021-10-29 15:00:00': {'1. open': '125.3422', '2. high': '125.3600', '3. low': '125.2750', '4. close': '125.3101', '5. volume': '28579'}, '2021-10-29 14:55:00': {'1. open': '125.3600', '2. high': '125.3800', '3. low': '125.3300', '4. close': '125.3300', '5. volume': '21581'}, '2021-10-29 14:50:00': {'1. open': '125.3800', '2. high': '125.3850', '3. low': '125.3100', '4. close': '125.3601', '5. volume': '32937'}, '2021-10-29 14:45:00': {'1. open': '125.3400', '2. high': '125.3808', '3. low': '125.3250', '4. close': '125.3750', '5. volume': '25269'}, '2021-10-29 14:40:00': {'1. open': '125.3600', '2. high': '125.3900', '3. low': '125.3000', '4. close': '125.3456', '5. volume': '34659'}, '2021-10-29 14:35:00': {'1. open': '125.4600', '2. high': '125.4600', '3. low': '125.3400', '4. close': '125.3407', '5. volume': '53849'}, '2021-10-29 14:30:00': {'1. open': '125.5233', '2. high': '125.5300', '3. low': '125.4520', '4. close': '125.4520', '5. volume': '40450'}, '2021-10-29 14:25:00': {'1. open': '125.6000', '2. high': '125.6100', '3. low': '125.4900', '4. close': '125.5250', '5. volume': '49262'}, '2021-10-29 14:20:00': {'1. open': '125.6400', '2. high': '125.6500', '3. low': '125.5900', '4. close': '125.5950', '5. volume': '43212'}, '2021-10-29 14:15:00': {'1. open': '125.7300', '2. high': '125.7470', '3. low': '125.6300', '4. close': '125.6300', '5. volume': '25045'}, '2021-10-29 14:10:00': {'1. open': '125.7000', '2. high': '125.7300', '3. low': '125.6500', '4. close': '125.7250', '5. volume': '30351'}, '2021-10-29 14:05:00': {'1. open': '125.6300', '2. high': '125.7250', '3. low': '125.6200', '4. close': '125.7100', '5. volume': '33888'}, '2021-10-29 14:00:00': {'1. open': '125.6220', '2. high': '125.6650', '3. low': '125.6160', '4. close': '125.6465', '5. volume': '30614'}, '2021-10-29 13:55:00': {'1. open': '125.6249', '2. high': '125.6550', '3. low': '125.6100', '4. close': '125.6200', '5. volume': '21360'}, '2021-10-29 13:50:00': {'1. open': '125.6500', '2. high': '125.6900', '3. low': '125.6150', '4. close': '125.6250', '5. volume': '38366'}, '2021-10-29 13:45:00': {'1. open': '125.5800', '2. high': '125.6800', '3. low': '125.5700', '4. close': '125.6600', '5. volume': '50176'}, '2021-10-29 13:40:00': {'1. open': '125.5450', '2. high': '125.6277', '3. low': '125.5400', '4. close': '125.5900', '5. volume': '30705'}, '2021-10-29 13:35:00': {'1. open': '125.5900', '2. high': '125.5900', '3. low': '125.5200', '4. close': '125.5450', '5. volume': '24635'}, '2021-10-29 13:30:00': {'1. open': '125.6655', '2. high': '125.6750', '3. low': '125.5900', '4. close': '125.5950', '5. volume': '34560'}, '2021-10-29 13:25:00': {'1. open': '125.6433', '2. high': '125.6850', '3. low': '125.6000', '4. close': '125.6600', '5. volume': '37108'}, '2021-10-29 13:20:00': {'1. open': '125.6800', '2. high': '125.6850', '3. low': '125.6200', '4. close': '125.6450', '5. volume': '38354'}, '2021-10-29 13:15:00': {'1. open': '125.6950', '2. high': '125.7050', '3. low': '125.6600', '4. close': '125.6700', '5. volume': '21389'}, '2021-10-29 13:10:00': {'1. open': '125.6945', '2. high': '125.7200', '3. low': '125.6900', '4. close': '125.7000', '5. volume': '17395'}, '2021-10-29 13:05:00': {'1. open': '125.7150', '2. high': '125.7150', '3. low': '125.6600', '4. close': '125.6850', '5. volume': '42226'}, '2021-10-29 13:00:00': {'1. open': '125.8000', '2. high': '125.8000', '3. low': '125.6800', '4. close': '125.7100', '5. volume': '43272'}, '2021-10-29 12:55:00': {'1. open': '125.8950', '2. high': '125.8981', '3. low': '125.7800', '4. close': '125.7901', '5. volume': '33601'}, '2021-10-29 12:50:00': {'1. open': '125.8324', '2. high': '125.9150', '3. low': '125.8300', '4. close': '125.8995', '5. volume': '28029'}, '2021-10-29 12:45:00': {'1. open': '125.9200', '2. high': '125.9400', '3. low': '125.8300', '4. close': '125.8300', '5. volume': '32737'}, '2021-10-29 12:40:00': {'1. open': '125.8900', '2. high': '125.9500', '3. low': '125.8850', '4. close': '125.9150', '5. volume': '38908'}, '2021-10-29 12:35:00': {'1. open': '125.9300', '2. high': '125.9700', '3. low': '125.8900', '4. close': '125.8900', '5. volume': '42186'}, '2021-10-29 12:30:00': {'1. open': '125.8294', '2. high': '125.9300', '3. low': '125.8000', '4. close': '125.9300', '5. volume': '31477'}, '2021-10-29 12:25:00': {'1. open': '125.8000', '2. high': '125.8800', '3. low': '125.7850', '4. close': '125.8150', '5. volume': '32899'}, '2021-10-29 12:20:00': {'1. open': '125.7900', '2. high': '125.8317', '3. low': '125.7300', '4. close': '125.8100', '5. volume': '23253'}, '2021-10-29 12:15:00': {'1. open': '125.6500', '2. high': '125.8200', '3. low': '125.6500', '4. close': '125.7900', '5. volume': '36849'}, '2021-10-29 12:10:00': {'1. open': '125.5250', '2. high': '125.6700', '3. low': '125.5250', '4. close': '125.6600', '5. volume': '33239'}, '2021-10-29 12:05:00': {'1. open': '125.5900', '2. high': '125.6200', '3. low': '125.5101', '4. close': '125.5101', '5. volume': '30898'}, '2021-10-29 12:00:00': {'1. open': '125.4800', '2. high': '125.6440', '3. low': '125.4800', '4. close': '125.5716', '5. volume': '39703'}, '2021-10-29 11:55:00': {'1. open': '125.3850', '2. high': '125.5700', '3. low': '125.3800', '4. close': '125.4800', '5. volume': '40207'}, '2021-10-29 11:50:00': {'1. open': '125.3800', '2. high': '125.4000', '3. low': '125.3500', '4. close': '125.3900', '5. volume': '51999'}, '2021-10-29 11:45:00': {'1. open': '125.4100', '2. high': '125.4700', '3. low': '125.3500', '4. close': '125.3710', '5. volume': '38504'}, '2021-10-29 11:40:00': {'1. open': '125.5050', '2. high': '125.5100', '3. low': '125.4100', '4. close': '125.4200', '5. volume': '52723'}, '2021-10-29 11:35:00': {'1. open': '125.7000', '2. high': '125.7300', '3. low': '125.5000', '4. close': '125.5000', '5. volume': '38175'}, '2021-10-29 11:30:00': {'1. open': '125.8600', '2. high': '125.9000', '3. low': '125.7000', '4. close': '125.7100', '5. volume': '31407'}, '2021-10-29 11:25:00': {'1. open': '125.7800', '2. high': '125.8510', '3. low': '125.7600', '4. close': '125.8510', '5. volume': '26061'}, '2021-10-29 11:20:00': {'1. open': '125.8500', '2. high': '125.8750', '3. low': '125.7800', '4. close': '125.8000', '5. volume': '27449'}, '2021-10-29 11:15:00': {'1. open': '125.8400', '2. high': '125.9300', '3. low': '125.7901', '4. close': '125.8500', '5. volume': '46896'}, '2021-10-29 11:10:00': {'1. open': '125.7800', '2. high': '125.8600', '3. low': '125.7550', '4. close': '125.8500', '5. volume': '25649'}, '2021-10-29 11:05:00': {'1. open': '125.6700', '2. high': '125.7800', '3. low': '125.6700', '4. close': '125.7650', '5. volume': '34895'}, '2021-10-29 11:00:00': {'1. open': '125.7100', '2. high': '125.7737', '3. low': '125.6362', '4. close': '125.6679', '5. volume': '23689'}, '2021-10-29 10:55:00': {'1. open': '125.5700', '2. high': '125.7100', '3. low': '125.5700', '4. close': '125.7050', '5. volume': '68964'}, '2021-10-29 10:50:00': {'1. open': '125.5900', '2. high': '125.6300', '3. low': '125.5200', '4. close': '125.5600', '5. volume': '23318'}, '2021-10-29 10:45:00': {'1. open': '125.5000', '2. high': '126.0000', '3. low': '125.4400', '4. close': '125.5900', '5. volume': '61679'}, '2021-10-29 10:40:00': {'1. open': '125.3300', '2. high': '126.0000', '3. low': '125.3300', '4. close': '125.4900', '5. volume': '54351'}, '2021-10-29 10:35:00': {'1. open': '125.3770', '2. high': '125.3770', '3. low': '125.2201', '4. close': '125.3150', '5. volume': '29639'}, '2021-10-29 10:30:00': {'1. open': '125.5150', '2. high': '125.5300', '3. low': '125.3100', '4. close': '125.3700', '5. volume': '42001'}, '2021-10-29 10:25:00': {'1. open': '125.3900', '2. high': '125.5700', '3. low': '125.3500', '4. close': '125.5150', '5. volume': '51322'}, '2021-10-29 10:20:00': {'1. open': '125.4100', '2. high': '125.4700', '3. low': '125.2592', '4. close': '125.4200', '5. volume': '46402'}, '2021-10-29 10:15:00': {'1. open': '125.5606', '2. high': '125.5800', '3. low': '125.3600', '4. close': '125.4000', '5. volume': '33418'}, '2021-10-29 10:10:00': {'1. open': '125.4400', '2. high': '125.6144', '3. low': '125.4000', '4. close': '125.6100', '5. volume': '35729'}, '2021-10-29 10:05:00': {'1. open': '125.4900', '2. high': '125.5700', '3. low': '125.4000', '4. close': '125.4600', '5. volume': '47744'}, '2021-10-29 10:00:00': {'1. open': '125.7600', '2. high': '125.8100', '3. low': '125.4600', '4. close': '125.5100', '5. volume': '45585'}, '2021-10-29 09:55:00': {'1. open': '125.8900', '2. high': '125.9500', '3. low': '125.6600', '4. close': '125.7600', '5. volume': '43908'}, '2021-10-29 09:50:00': {'1. open': '125.9000', '2. high': '125.9940', '3. low': '125.6500', '4. close': '125.8600', '5. volume': '52083'}, '2021-10-29 09:45:00': {'1. open': '125.6500', '2. high': '125.9800', '3. low': '125.6500', '4. close': '125.8772', '5. volume': '34361'}, '2021-10-29 09:40:00': {'1. open': '126.0400', '2. high': '126.3200', '3. low': '125.6100', '4. close': '125.6800', '5. volume': '116775'}, '2021-10-29 09:35:00': {'1. open': '125.4300', '2. high': '126.0200', '3. low': '125.3100', '4. close': '126.0000', '5. volume': '219688'}, '2021-10-29 09:30:00': {'1. open': '125.6600', '2. high': '126.0000', '3. low': '125.5000', '4. close': '125.5000', '5. volume': '6678'}, '2021-10-29 09:25:00': {'1. open': '125.7464', '2. high': '125.7464', '3. low': '125.7464', '4. close': '125.7464', '5. volume': '163'}, '2021-10-29 09:15:00': {'1. open': '125.5200', '2. high': '125.5200', '3. low': '125.5200', '4. close': '125.5200', '5. volume': '410'}, '2021-10-29 09:10:00': {'1. open': '125.6400', '2. high': '125.6500', '3. low': '125.6400', '4. close': '125.6500', '5. volume': '514'}, '2021-10-29 09:05:00': {'1. open': '125.7100', '2. high': '125.7100', '3. low': '125.5000', '4. close': '125.5000', '5. volume': '1680'}, '2021-10-29 09:00:00': {'1. open': '125.6900', '2. high': '125.6900', '3. low': '125.6900', '4. close': '125.6900', '5. volume': '200'}, '2021-10-29 08:55:00': {'1. open': '125.6500', '2. high': '125.6500', '3. low': '125.6000', '4. close': '125.6000', '5. volume': '2305'}}}\n"
     ]
    }
   ],
   "source": [
    "import requests\n",
    "\n",
    "# replace the \"demo\" apikey below with your own key from https://www.alphavantage.co/support/#api-key\n",
    "url = 'https://www.alphavantage.co/query?function=TIME_SERIES_INTRADAY&symbol=IBM&interval=5min&apikey=demo'\n",
    "r = requests.get(url)\n",
    "data = r.json()\n",
    "\n",
    "print(data)"
   ]
  },
  {
   "cell_type": "code",
   "execution_count": 1,
   "id": "17807768",
   "metadata": {},
   "outputs": [
    {
     "data": {
      "text/html": [
       "<div>\n",
       "<style scoped>\n",
       "    .dataframe tbody tr th:only-of-type {\n",
       "        vertical-align: middle;\n",
       "    }\n",
       "\n",
       "    .dataframe tbody tr th {\n",
       "        vertical-align: top;\n",
       "    }\n",
       "\n",
       "    .dataframe thead th {\n",
       "        text-align: right;\n",
       "    }\n",
       "</style>\n",
       "<table border=\"1\" class=\"dataframe\">\n",
       "  <thead>\n",
       "    <tr style=\"text-align: right;\">\n",
       "      <th></th>\n",
       "      <th>Brand</th>\n",
       "      <th>Year</th>\n",
       "      <th>Kms Driven</th>\n",
       "      <th>City</th>\n",
       "      <th>Mileage</th>\n",
       "    </tr>\n",
       "  </thead>\n",
       "  <tbody>\n",
       "    <tr>\n",
       "      <th>0</th>\n",
       "      <td>Maruti</td>\n",
       "      <td>2012</td>\n",
       "      <td>50000</td>\n",
       "      <td>Gurgaon</td>\n",
       "      <td>28</td>\n",
       "    </tr>\n",
       "    <tr>\n",
       "      <th>1</th>\n",
       "      <td>Hyundai</td>\n",
       "      <td>2014</td>\n",
       "      <td>30000</td>\n",
       "      <td>Delhi</td>\n",
       "      <td>27</td>\n",
       "    </tr>\n",
       "    <tr>\n",
       "      <th>2</th>\n",
       "      <td>Tata</td>\n",
       "      <td>2011</td>\n",
       "      <td>60000</td>\n",
       "      <td>Mumbai</td>\n",
       "      <td>25</td>\n",
       "    </tr>\n",
       "    <tr>\n",
       "      <th>3</th>\n",
       "      <td>Mahindra</td>\n",
       "      <td>2015</td>\n",
       "      <td>25000</td>\n",
       "      <td>Delhi</td>\n",
       "      <td>26</td>\n",
       "    </tr>\n",
       "    <tr>\n",
       "      <th>4</th>\n",
       "      <td>Maruti</td>\n",
       "      <td>2012</td>\n",
       "      <td>10000</td>\n",
       "      <td>Mumbai</td>\n",
       "      <td>28</td>\n",
       "    </tr>\n",
       "    <tr>\n",
       "      <th>5</th>\n",
       "      <td>Hyundai</td>\n",
       "      <td>2016</td>\n",
       "      <td>46000</td>\n",
       "      <td>Delhi</td>\n",
       "      <td>29</td>\n",
       "    </tr>\n",
       "    <tr>\n",
       "      <th>6</th>\n",
       "      <td>Renault</td>\n",
       "      <td>2014</td>\n",
       "      <td>31000</td>\n",
       "      <td>Mumbai</td>\n",
       "      <td>24</td>\n",
       "    </tr>\n",
       "    <tr>\n",
       "      <th>7</th>\n",
       "      <td>Tata</td>\n",
       "      <td>2018</td>\n",
       "      <td>15000</td>\n",
       "      <td>Chennai</td>\n",
       "      <td>21</td>\n",
       "    </tr>\n",
       "    <tr>\n",
       "      <th>8</th>\n",
       "      <td>Maruti</td>\n",
       "      <td>2019</td>\n",
       "      <td>12000</td>\n",
       "      <td>Ghaziabad</td>\n",
       "      <td>24</td>\n",
       "    </tr>\n",
       "  </tbody>\n",
       "</table>\n",
       "</div>"
      ],
      "text/plain": [
       "      Brand  Year  Kms Driven       City  Mileage\n",
       "0    Maruti  2012       50000    Gurgaon       28\n",
       "1   Hyundai  2014       30000      Delhi       27\n",
       "2      Tata  2011       60000     Mumbai       25\n",
       "3  Mahindra  2015       25000      Delhi       26\n",
       "4    Maruti  2012       10000     Mumbai       28\n",
       "5   Hyundai  2016       46000      Delhi       29\n",
       "6   Renault  2014       31000     Mumbai       24\n",
       "7      Tata  2018       15000    Chennai       21\n",
       "8    Maruti  2019       12000  Ghaziabad       24"
      ]
     },
     "metadata": {},
     "output_type": "display_data"
    }
   ],
   "source": [
    "# importing the module\n",
    "import pandas as pd\n",
    "  \n",
    "# creating a sample dataframe\n",
    "data = pd.DataFrame({'Brand' : ['Maruti', 'Hyundai', 'Tata',\n",
    "                                'Mahindra', 'Maruti', 'Hyundai',\n",
    "                                'Renault', 'Tata', 'Maruti'],\n",
    "                     'Year' : [2012, 2014, 2011, 2015, 2012, \n",
    "                               2016, 2014, 2018, 2019],\n",
    "                     'Kms Driven' : [50000, 30000, 60000, \n",
    "                                     25000, 10000, 46000, \n",
    "                                     31000, 15000, 12000],\n",
    "                     'City' : ['Gurgaon', 'Delhi', 'Mumbai', \n",
    "                               'Delhi', 'Mumbai', 'Delhi', \n",
    "                               'Mumbai','Chennai',  'Ghaziabad'],\n",
    "                     'Mileage' :  [28, 27, 25, 26, 28, \n",
    "                                   29, 24, 21, 24]})\n",
    "  \n",
    "# displaying the DataFrame\n",
    "display(data)"
   ]
  },
  {
   "cell_type": "code",
   "execution_count": 5,
   "id": "2af8d61b",
   "metadata": {},
   "outputs": [
    {
     "name": "stdout",
     "output_type": "stream",
     "text": [
      "      Brand  Mileage\n",
      "0    Maruti       28\n",
      "1   Hyundai       27\n",
      "2      Tata       25\n",
      "3  Mahindra       26\n",
      "4    Maruti       28\n",
      "5   Hyundai       29\n",
      "6   Renault       24\n",
      "7      Tata       21\n",
      "8    Maruti       24\n"
     ]
    }
   ],
   "source": [
    "cols = [0 ,4]\n",
    "iso = data[data.columns[cols]]\n",
    "print(iso)"
   ]
  },
  {
   "cell_type": "code",
   "execution_count": 6,
   "id": "0254a3f5",
   "metadata": {},
   "outputs": [
    {
     "data": {
      "text/plain": [
       "<function __main__.<lambda>(x)>"
      ]
     },
     "execution_count": 6,
     "metadata": {},
     "output_type": "execute_result"
    }
   ],
   "source": [
    "lambda x:x"
   ]
  },
  {
   "cell_type": "code",
   "execution_count": 7,
   "id": "5ed17dfa",
   "metadata": {},
   "outputs": [],
   "source": [
    "some_func = lambda x:x + 1"
   ]
  },
  {
   "cell_type": "code",
   "execution_count": 8,
   "id": "e894dbee",
   "metadata": {},
   "outputs": [
    {
     "data": {
      "text/plain": [
       "4"
      ]
     },
     "execution_count": 8,
     "metadata": {},
     "output_type": "execute_result"
    }
   ],
   "source": [
    "some_func(3)"
   ]
  },
  {
   "cell_type": "code",
   "execution_count": 9,
   "id": "d24c8ecd",
   "metadata": {},
   "outputs": [
    {
     "data": {
      "text/plain": [
       "7"
      ]
     },
     "execution_count": 9,
     "metadata": {},
     "output_type": "execute_result"
    }
   ],
   "source": [
    "some_func(6)"
   ]
  },
  {
   "cell_type": "code",
   "execution_count": 10,
   "id": "1c764e3b",
   "metadata": {},
   "outputs": [],
   "source": []
  },
  {
   "cell_type": "code",
   "execution_count": 11,
   "id": "f60497c7",
   "metadata": {},
   "outputs": [
    {
     "data": {
      "text/plain": [
       "2"
      ]
     },
     "execution_count": 11,
     "metadata": {},
     "output_type": "execute_result"
    }
   ],
   "source": [
    "i(1)"
   ]
  },
  {
   "cell_type": "code",
   "execution_count": 15,
   "id": "7c77b75b",
   "metadata": {},
   "outputs": [
    {
     "ename": "TypeError",
     "evalue": "expected string or bytes-like object",
     "output_type": "error",
     "traceback": [
      "\u001b[1;31m---------------------------------------------------------------------------\u001b[0m",
      "\u001b[1;31mTypeError\u001b[0m                                 Traceback (most recent call last)",
      "\u001b[1;32m~\\AppData\\Local\\Temp/ipykernel_13404/3002590974.py\u001b[0m in \u001b[0;36m<module>\u001b[1;34m\u001b[0m\n\u001b[0;32m      6\u001b[0m \u001b[1;33m\u001b[0m\u001b[0m\n\u001b[0;32m      7\u001b[0m \u001b[1;32mfor\u001b[0m \u001b[0mi\u001b[0m \u001b[1;32min\u001b[0m \u001b[0mtxt\u001b[0m\u001b[1;33m:\u001b[0m\u001b[1;33m\u001b[0m\u001b[1;33m\u001b[0m\u001b[0m\n\u001b[1;32m----> 8\u001b[1;33m     \u001b[0mx\u001b[0m \u001b[1;33m=\u001b[0m \u001b[0mre\u001b[0m\u001b[1;33m.\u001b[0m\u001b[0msearch\u001b[0m\u001b[1;33m(\u001b[0m\u001b[1;34m\"^Th\"\u001b[0m\u001b[1;33m,\u001b[0m \u001b[0mtxt\u001b[0m\u001b[1;33m)\u001b[0m\u001b[1;33m\u001b[0m\u001b[1;33m\u001b[0m\u001b[0m\n\u001b[0m\u001b[0;32m      9\u001b[0m \u001b[1;32mif\u001b[0m \u001b[0mx\u001b[0m\u001b[1;33m:\u001b[0m\u001b[1;33m\u001b[0m\u001b[1;33m\u001b[0m\u001b[0m\n\u001b[0;32m     10\u001b[0m     \u001b[0mprint\u001b[0m\u001b[1;33m(\u001b[0m\u001b[1;34m\"YES! We have a match!\"\u001b[0m\u001b[1;33m)\u001b[0m\u001b[1;33m\u001b[0m\u001b[1;33m\u001b[0m\u001b[0m\n",
      "\u001b[1;32mC:\\Python39\\lib\\re.py\u001b[0m in \u001b[0;36msearch\u001b[1;34m(pattern, string, flags)\u001b[0m\n\u001b[0;32m    199\u001b[0m     \"\"\"Scan through string looking for a match to the pattern, returning\n\u001b[0;32m    200\u001b[0m     a Match object, or None if no match was found.\"\"\"\n\u001b[1;32m--> 201\u001b[1;33m     \u001b[1;32mreturn\u001b[0m \u001b[0m_compile\u001b[0m\u001b[1;33m(\u001b[0m\u001b[0mpattern\u001b[0m\u001b[1;33m,\u001b[0m \u001b[0mflags\u001b[0m\u001b[1;33m)\u001b[0m\u001b[1;33m.\u001b[0m\u001b[0msearch\u001b[0m\u001b[1;33m(\u001b[0m\u001b[0mstring\u001b[0m\u001b[1;33m)\u001b[0m\u001b[1;33m\u001b[0m\u001b[1;33m\u001b[0m\u001b[0m\n\u001b[0m\u001b[0;32m    202\u001b[0m \u001b[1;33m\u001b[0m\u001b[0m\n\u001b[0;32m    203\u001b[0m \u001b[1;32mdef\u001b[0m \u001b[0msub\u001b[0m\u001b[1;33m(\u001b[0m\u001b[0mpattern\u001b[0m\u001b[1;33m,\u001b[0m \u001b[0mrepl\u001b[0m\u001b[1;33m,\u001b[0m \u001b[0mstring\u001b[0m\u001b[1;33m,\u001b[0m \u001b[0mcount\u001b[0m\u001b[1;33m=\u001b[0m\u001b[1;36m0\u001b[0m\u001b[1;33m,\u001b[0m \u001b[0mflags\u001b[0m\u001b[1;33m=\u001b[0m\u001b[1;36m0\u001b[0m\u001b[1;33m)\u001b[0m\u001b[1;33m:\u001b[0m\u001b[1;33m\u001b[0m\u001b[1;33m\u001b[0m\u001b[0m\n",
      "\u001b[1;31mTypeError\u001b[0m: expected string or bytes-like object"
     ]
    }
   ],
   "source": [
    "import re\n",
    "\n",
    "#Check if the string starts with \"The\" and ends with \"Spain\":\n",
    "\n",
    "txt = [\"The\" ,\"rain\" ,\"in\" ,\"Spain\"]\n",
    "\n",
    "for i in txt:\n",
    "    x = re.search(\"^Th\", txt)\n",
    "if x:\n",
    "    print(\"YES! We have a match!\")\n",
    "else:\n",
    "    print(\"No match\")\n"
   ]
  },
  {
   "cell_type": "code",
   "execution_count": null,
   "id": "8a4635b8",
   "metadata": {},
   "outputs": [],
   "source": [
    "import os\n",
    "import requests\n",
    "\n",
    "BEARER_TOKEN = os.getenv('BEARER_TOKEN')\n",
    "\n",
    "headers = {\n",
    "    'Authorization': f\"Bearer {BEARER_TOKEN}\",\n",
    "}\n",
    "\n",
    "params = (\n",
    "    ('query', '%23caturday%20has%3Aimages%20-is%3Aretweet'),\n",
    ")\n",
    "\n",
    "response = requests.get('https://api.twitter.com/2/tweets/search/recent', headers=headers, params=params)\n",
    "\n",
    "#NB. Original query string below. It seems impossible to parse and\n",
    "#reproduce query strings 100% accurately so the one below is given\n",
    "#in case the reproduced version is not \"correct\".\n",
    "# response = requests.get('https://api.twitter.com/2/tweets/search/recent?query=%2523caturday%2520has%253Aimages%2520-is%253Aretweet', headers=headers)"
   ]
  },
  {
   "cell_type": "code",
   "execution_count": 1,
   "id": "5908f152",
   "metadata": {},
   "outputs": [],
   "source": [
    "class TooManyRequestsError(Exception):\n",
    "    def __str__(self):\n",
    "        return \"More than 30 requests have been made in the last five seconds.\""
   ]
  },
  {
   "cell_type": "code",
   "execution_count": 2,
   "id": "35196eea",
   "metadata": {},
   "outputs": [],
   "source": [
    "class Throttler(object):\n",
    "    cache = {}\n",
    "\n",
    "    def __init__(self, max_rate, window, throttle_stop=False, cache_age=1800):\n",
    "        # Dict of max number of requests of the API rate limit for each source\n",
    "        self.max_rate = max_rate\n",
    "        # Dict of duration of the API rate limit for each source\n",
    "        self.window = window\n",
    "        # Whether to throw an error (when True) if the limit is reached, or wait until another request\n",
    "        self.throttle_stop = throttle_stop\n",
    "        # The time, in seconds, for which to cache a response\n",
    "        self.cache_age = cache_age\n",
    "        # Initialization\n",
    "        self.next_reset_at = dict()\n",
    "        self.num_requests = dict()\n",
    "\n",
    "        now = datetime.datetime.now()\n",
    "        for source in self.max_rate:\n",
    "            self.next_reset_at[source] = now + datetime.timedelta(seconds=self.window.get(source))\n",
    "            self.num_requests[source] = 0\n",
    "\n",
    "    def request(self, source, method, do_cache=False):\n",
    "        now = datetime.datetime.now()\n",
    "\n",
    "        # if cache exists, no need to make api call\n",
    "        key = source + method.func_name\n",
    "        if do_cache and key in self.cache:\n",
    "            timestamp, data = self.cache.get(key)\n",
    "            logging.info('{} exists in cached @ {}'.format(key, timestamp))\n",
    "\n",
    "            if (now - timestamp).seconds < self.cache_age:\n",
    "                logging.info('retrieved cache for {}'.format(key))\n",
    "                return data\n",
    "\n",
    "        # <--- MAKE API CALLS ---> #\n",
    "\n",
    "        # reset the count if the period passed\n",
    "        if now > self.next_reset_at.get(source):\n",
    "            self.num_requests[source] = 0\n",
    "            self.next_reset_at[source] = now + datetime.timedelta(seconds=self.window.get(source))\n",
    "\n",
    "        # throttle request\n",
    "        def halt(wait_time):\n",
    "            if self.throttle_stop:\n",
    "                raise TooManyRequestsError()\n",
    "            else:\n",
    "                # Wait the required time, plus a bit of extra padding time.\n",
    "                time.sleep(wait_time + 0.1)\n",
    "\n",
    "        # if exceed max rate, need to wait\n",
    "        if self.num_requests.get(source) >= self.max_rate.get(source):\n",
    "            logging.info('back off: {} until {}'.format(source, self.next_reset_at.get(source)))\n",
    "            halt((self.next_reset_at.get(source) - now).seconds)\n",
    "\n",
    "        self.num_requests[source] += 1\n",
    "        response = method()  # potential exception raise\n",
    "\n",
    "        # cache the response\n",
    "        if do_cache:\n",
    "            self.cache[key] = (now, response)\n",
    "            logging.info('cached instance for {}, {}'.format(source, method))\n",
    "\n",
    "        return response"
   ]
  },
  {
   "cell_type": "code",
   "execution_count": 6,
   "id": "d23f3615",
   "metadata": {},
   "outputs": [
    {
     "name": "stdout",
     "output_type": "stream",
     "text": [
      "<class 'datetime.datetime'>\n"
     ]
    }
   ],
   "source": [
    "import datetime\n",
    "yo = datetime.datetime.now() \n",
    "print(type(yo))"
   ]
  },
  {
   "cell_type": "code",
   "execution_count": 8,
   "id": "65534b88",
   "metadata": {},
   "outputs": [
    {
     "name": "stdout",
     "output_type": "stream",
     "text": [
      "0:00:30\n"
     ]
    }
   ],
   "source": [
    "hi = datetime.timedelta(seconds=30)\n",
    "print(hi)"
   ]
  },
  {
   "cell_type": "code",
   "execution_count": 11,
   "id": "2b82ad77",
   "metadata": {},
   "outputs": [
    {
     "ename": "TypeError",
     "evalue": "'>' not supported between instances of 'datetime.datetime' and 'datetime.timedelta'",
     "output_type": "error",
     "traceback": [
      "\u001b[1;31m---------------------------------------------------------------------------\u001b[0m",
      "\u001b[1;31mTypeError\u001b[0m                                 Traceback (most recent call last)",
      "\u001b[1;32m~\\AppData\\Local\\Temp/ipykernel_9148/1560004890.py\u001b[0m in \u001b[0;36m<module>\u001b[1;34m\u001b[0m\n\u001b[1;32m----> 1\u001b[1;33m \u001b[0myu\u001b[0m \u001b[1;33m=\u001b[0m \u001b[0myo\u001b[0m \u001b[1;33m>\u001b[0m \u001b[0mhi\u001b[0m\u001b[1;33m\u001b[0m\u001b[1;33m\u001b[0m\u001b[0m\n\u001b[0m\u001b[0;32m      2\u001b[0m \u001b[0mprint\u001b[0m\u001b[1;33m(\u001b[0m\u001b[0myu\u001b[0m \u001b[1;33m,\u001b[0m\u001b[1;34m\"this is 30 sec from now\"\u001b[0m\u001b[1;33m)\u001b[0m\u001b[1;33m\u001b[0m\u001b[1;33m\u001b[0m\u001b[0m\n\u001b[0;32m      3\u001b[0m \u001b[0mprint\u001b[0m\u001b[1;33m(\u001b[0m\u001b[0myo\u001b[0m \u001b[1;33m,\u001b[0m\u001b[1;34m\"this is now\"\u001b[0m\u001b[1;33m)\u001b[0m\u001b[1;33m\u001b[0m\u001b[1;33m\u001b[0m\u001b[0m\n",
      "\u001b[1;31mTypeError\u001b[0m: '>' not supported between instances of 'datetime.datetime' and 'datetime.timedelta'"
     ]
    }
   ],
   "source": [
    "yu = yo > hi\n",
    "print(yu ,\"this is 30 sec from now\")\n",
    "print(yo ,\"this is now\")"
   ]
  },
  {
   "cell_type": "code",
   "execution_count": null,
   "id": "bbf9f274",
   "metadata": {},
   "outputs": [],
   "source": []
  },
  {
   "cell_type": "code",
   "execution_count": null,
   "id": "61059620",
   "metadata": {},
   "outputs": [],
   "source": []
  },
  {
   "cell_type": "code",
   "execution_count": null,
   "id": "04b9e6f5",
   "metadata": {},
   "outputs": [],
   "source": []
  },
  {
   "cell_type": "code",
   "execution_count": null,
   "id": "a9d6c00e",
   "metadata": {},
   "outputs": [],
   "source": []
  },
  {
   "cell_type": "code",
   "execution_count": null,
   "id": "8da9cd5a",
   "metadata": {},
   "outputs": [],
   "source": []
  },
  {
   "cell_type": "code",
   "execution_count": null,
   "id": "8045c671",
   "metadata": {},
   "outputs": [],
   "source": []
  }
 ],
 "metadata": {
  "kernelspec": {
   "display_name": "Python 3 (ipykernel)",
   "language": "python",
   "name": "python3"
  },
  "language_info": {
   "codemirror_mode": {
    "name": "ipython",
    "version": 3
   },
   "file_extension": ".py",
   "mimetype": "text/x-python",
   "name": "python",
   "nbconvert_exporter": "python",
   "pygments_lexer": "ipython3",
   "version": "3.9.7"
  }
 },
 "nbformat": 4,
 "nbformat_minor": 5
}
